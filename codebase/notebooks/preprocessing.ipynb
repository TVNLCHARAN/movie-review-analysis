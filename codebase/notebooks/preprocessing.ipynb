{
 "cells": [
  {
   "cell_type": "code",
   "execution_count": 1,
   "metadata": {},
   "outputs": [
    {
     "name": "stderr",
     "output_type": "stream",
     "text": [
      "2024-10-31 14:17:04.756826: E external/local_xla/xla/stream_executor/cuda/cuda_fft.cc:477] Unable to register cuFFT factory: Attempting to register factory for plugin cuFFT when one has already been registered\n",
      "WARNING: All log messages before absl::InitializeLog() is called are written to STDERR\n",
      "E0000 00:00:1730364425.325103   10800 cuda_dnn.cc:8310] Unable to register cuDNN factory: Attempting to register factory for plugin cuDNN when one has already been registered\n",
      "E0000 00:00:1730364425.473369   10800 cuda_blas.cc:1418] Unable to register cuBLAS factory: Attempting to register factory for plugin cuBLAS when one has already been registered\n",
      "2024-10-31 14:17:07.421675: I tensorflow/core/platform/cpu_feature_guard.cc:210] This TensorFlow binary is optimized to use available CPU instructions in performance-critical operations.\n",
      "To enable the following instructions: AVX2 FMA, in other operations, rebuild TensorFlow with the appropriate compiler flags.\n"
     ]
    }
   ],
   "source": [
    "import pandas as pd\n",
    "import numpy as np\n",
    "import tensorflow as tf"
   ]
  },
  {
   "cell_type": "code",
   "execution_count": 2,
   "metadata": {},
   "outputs": [],
   "source": [
    "import sys\n",
    "import os\n",
    "sys.path.append(os.path.abspath(\"../\"))"
   ]
  },
  {
   "cell_type": "code",
   "execution_count": 3,
   "metadata": {},
   "outputs": [],
   "source": [
    "from src.data.load_data import load_data\n",
    "\n",
    "dataset_path = '../data/processed/IMDB Dataset.csv'\n",
    "\n",
    "X_train, X_test, y_train, y_test = load_data(dataset_path)"
   ]
  },
  {
   "cell_type": "code",
   "execution_count": 4,
   "metadata": {},
   "outputs": [],
   "source": [
    "from tensorflow.keras.layers import TextVectorization"
   ]
  },
  {
   "cell_type": "code",
   "execution_count": 5,
   "metadata": {},
   "outputs": [
    {
     "name": "stderr",
     "output_type": "stream",
     "text": [
      "2024-10-31 14:17:27.298345: E external/local_xla/xla/stream_executor/cuda/cuda_driver.cc:152] failed call to cuInit: INTERNAL: CUDA error: Failed call to cuInit: UNKNOWN ERROR (303)\n"
     ]
    }
   ],
   "source": [
    "max_vocabulary_size = 10000\n",
    "\n",
    "vectorize_layer = TextVectorization(\n",
    "    max_tokens=max_vocabulary_size,\n",
    "    output_mode='int',\n",
    "    output_sequence_length=100\n",
    ")"
   ]
  },
  {
   "cell_type": "code",
   "execution_count": 6,
   "metadata": {},
   "outputs": [
    {
     "name": "stderr",
     "output_type": "stream",
     "text": [
      "2024-10-31 14:17:29.800187: W external/local_xla/xla/tsl/framework/cpu_allocator_impl.cc:83] Allocation of 147262064 exceeds 10% of free system memory.\n",
      "2024-10-31 14:17:29.800377: W external/local_xla/xla/tsl/framework/cpu_allocator_impl.cc:83] Allocation of 220893096 exceeds 10% of free system memory.\n",
      "2024-10-31 14:17:30.730002: W external/local_xla/xla/tsl/framework/cpu_allocator_impl.cc:83] Allocation of 73631032 exceeds 10% of free system memory.\n",
      "2024-10-31 14:17:31.852213: W external/local_xla/xla/tsl/framework/cpu_allocator_impl.cc:83] Allocation of 36815516 exceeds 10% of free system memory.\n",
      "2024-10-31 14:17:32.403438: W external/local_xla/xla/tsl/framework/cpu_allocator_impl.cc:83] Allocation of 73631032 exceeds 10% of free system memory.\n"
     ]
    }
   ],
   "source": [
    "vectorize_layer.adapt(X_train)\n",
    "X_train_vec = vectorize_layer(X_train)\n",
    "X_test_vec = vectorize_layer(X_test)"
   ]
  },
  {
   "cell_type": "code",
   "execution_count": 7,
   "metadata": {},
   "outputs": [],
   "source": [
    "from tensorflow.keras.layers import Embedding"
   ]
  },
  {
   "cell_type": "code",
   "execution_count": 8,
   "metadata": {},
   "outputs": [
    {
     "name": "stderr",
     "output_type": "stream",
     "text": [
      "/home/tvnl/.local/lib/python3.10/site-packages/keras/src/layers/core/embedding.py:90: UserWarning: Argument `input_length` is deprecated. Just remove it.\n",
      "  warnings.warn(\n"
     ]
    }
   ],
   "source": [
    "embedding_dim = 128\n",
    "\n",
    "embedding_layer = Embedding(\n",
    "    input_dim=max_vocabulary_size,\n",
    "    output_dim=embedding_dim,\n",
    "    input_length=100\n",
    ")\n"
   ]
  },
  {
   "cell_type": "code",
   "execution_count": null,
   "metadata": {},
   "outputs": [],
   "source": [
    "\n",
    "X_train_embeddings = embedding_layer(X_train_vec)\n",
    "X_test_embeddings = embedding_layer(X_test_vec)"
   ]
  },
  {
   "cell_type": "code",
   "execution_count": null,
   "metadata": {},
   "outputs": [],
   "source": []
  }
 ],
 "metadata": {
  "kernelspec": {
   "display_name": "Python 3",
   "language": "python",
   "name": "python3"
  },
  "language_info": {
   "codemirror_mode": {
    "name": "ipython",
    "version": 3
   },
   "file_extension": ".py",
   "mimetype": "text/x-python",
   "name": "python",
   "nbconvert_exporter": "python",
   "pygments_lexer": "ipython3",
   "version": "3.10.12"
  }
 },
 "nbformat": 4,
 "nbformat_minor": 2
}
